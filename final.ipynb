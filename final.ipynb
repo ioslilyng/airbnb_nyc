{
 "cells": [
  {
   "cell_type": "code",
   "execution_count": 11,
   "metadata": {},
   "outputs": [],
   "source": [
    "# Libraries use \n",
    "import numpy as np\n",
    "import pandas as pd\n",
    "import matplotlib.pyplot as plt\n",
    "import seaborn as sns\n",
    "from sklearn.model_selection import train_test_split\n",
    "from sklearn.feature_selection import SelectKBest, f_regression\n",
    "from sklearn.preprocessing import StandardScaler\n",
    "from sklearn.feature_selection import chi2\n",
    "from xgboost import XGBRegressor\n",
    "from sklearn.linear_model import LinearRegression\n",
    "from sklearn.metrics import mean_squared_error, r2_score\n",
    "\n",
    "%matplotlib inline"
   ]
  },
  {
   "cell_type": "code",
   "execution_count": 2,
   "metadata": {},
   "outputs": [
    {
     "name": "stdout",
     "output_type": "stream",
     "text": [
      "<class 'pandas.core.frame.DataFrame'>\n",
      "RangeIndex: 28132 entries, 0 to 28131\n",
      "Data columns (total 19 columns):\n",
      " #   Column                       Non-Null Count  Dtype  \n",
      "---  ------                       --------------  -----  \n",
      " 0   host_response_time           28132 non-null  object \n",
      " 1   host_response_rate           28132 non-null  object \n",
      " 2   host_acceptance_rate         28132 non-null  object \n",
      " 3   host_is_superhost            28132 non-null  object \n",
      " 4   host_listings_count          28132 non-null  float64\n",
      " 5   property_type                28132 non-null  object \n",
      " 6   room_type                    28132 non-null  object \n",
      " 7   accommodates                 28132 non-null  int64  \n",
      " 8   bedrooms                     28132 non-null  float64\n",
      " 9   beds                         28132 non-null  float64\n",
      " 10  price                        28132 non-null  float64\n",
      " 11  minimum_nights               28132 non-null  int64  \n",
      " 12  review_scores_rating         28132 non-null  float64\n",
      " 13  review_scores_accuracy       28132 non-null  float64\n",
      " 14  review_scores_cleanliness    28132 non-null  float64\n",
      " 15  review_scores_checkin        28132 non-null  float64\n",
      " 16  review_scores_communication  28132 non-null  float64\n",
      " 17  review_scores_location       28132 non-null  float64\n",
      " 18  review_scores_value          28132 non-null  float64\n",
      "dtypes: float64(11), int64(2), object(6)\n",
      "memory usage: 4.1+ MB\n"
     ]
    }
   ],
   "source": [
    "df = pd.read_csv('./data/dataset.csv')\n",
    "df.info()"
   ]
  },
  {
   "cell_type": "code",
   "execution_count": 3,
   "metadata": {},
   "outputs": [],
   "source": [
    "df_dum = pd.get_dummies(df)"
   ]
  },
  {
   "cell_type": "code",
   "execution_count": 4,
   "metadata": {},
   "outputs": [],
   "source": [
    "X = df_dum.drop('price', axis=1)\n",
    "y = df_dum.price\n",
    "X_train, X_test, y_train, y_test = train_test_split(X, y, test_size=0.33, random_state=42)"
   ]
  },
  {
   "cell_type": "code",
   "execution_count": 5,
   "metadata": {},
   "outputs": [],
   "source": [
    "scaler = StandardScaler()\n",
    "X_train = pd.DataFrame(scaler.fit_transform(X_train), columns=list(X_train.columns))\n",
    "\n",
    "kbest_features = SelectKBest(f_regression, k=5).fit(X_train, y_train)"
   ]
  },
  {
   "cell_type": "code",
   "execution_count": 6,
   "metadata": {},
   "outputs": [
    {
     "data": {
      "text/html": [
       "<div>\n",
       "<style scoped>\n",
       "    .dataframe tbody tr th:only-of-type {\n",
       "        vertical-align: middle;\n",
       "    }\n",
       "\n",
       "    .dataframe tbody tr th {\n",
       "        vertical-align: top;\n",
       "    }\n",
       "\n",
       "    .dataframe thead th {\n",
       "        text-align: right;\n",
       "    }\n",
       "</style>\n",
       "<table border=\"1\" class=\"dataframe\">\n",
       "  <thead>\n",
       "    <tr style=\"text-align: right;\">\n",
       "      <th></th>\n",
       "      <th>Features</th>\n",
       "      <th>Score</th>\n",
       "    </tr>\n",
       "  </thead>\n",
       "  <tbody>\n",
       "    <tr>\n",
       "      <th>1</th>\n",
       "      <td>accommodates</td>\n",
       "      <td>1918.631589</td>\n",
       "    </tr>\n",
       "    <tr>\n",
       "      <th>2</th>\n",
       "      <td>bedrooms</td>\n",
       "      <td>1415.570453</td>\n",
       "    </tr>\n",
       "    <tr>\n",
       "      <th>3</th>\n",
       "      <td>beds</td>\n",
       "      <td>986.950745</td>\n",
       "    </tr>\n",
       "    <tr>\n",
       "      <th>33</th>\n",
       "      <td>property_type_Secondary unit</td>\n",
       "      <td>914.112204</td>\n",
       "    </tr>\n",
       "    <tr>\n",
       "      <th>37</th>\n",
       "      <td>room_type_Private room</td>\n",
       "      <td>721.137489</td>\n",
       "    </tr>\n",
       "    <tr>\n",
       "      <th>35</th>\n",
       "      <td>room_type_Entire home/apt</td>\n",
       "      <td>706.142705</td>\n",
       "    </tr>\n",
       "    <tr>\n",
       "      <th>32</th>\n",
       "      <td>property_type_House</td>\n",
       "      <td>331.476505</td>\n",
       "    </tr>\n",
       "    <tr>\n",
       "      <th>29</th>\n",
       "      <td>property_type_Apartment</td>\n",
       "      <td>266.278160</td>\n",
       "    </tr>\n",
       "    <tr>\n",
       "      <th>31</th>\n",
       "      <td>property_type_Boutique hotel</td>\n",
       "      <td>177.618471</td>\n",
       "    </tr>\n",
       "    <tr>\n",
       "      <th>13</th>\n",
       "      <td>host_response_time_unknown</td>\n",
       "      <td>73.633584</td>\n",
       "    </tr>\n",
       "  </tbody>\n",
       "</table>\n",
       "</div>"
      ],
      "text/plain": [
       "                        Features        Score\n",
       "1                   accommodates  1918.631589\n",
       "2                       bedrooms  1415.570453\n",
       "3                           beds   986.950745\n",
       "33  property_type_Secondary unit   914.112204\n",
       "37        room_type_Private room   721.137489\n",
       "35     room_type_Entire home/apt   706.142705\n",
       "32           property_type_House   331.476505\n",
       "29       property_type_Apartment   266.278160\n",
       "31  property_type_Boutique hotel   177.618471\n",
       "13    host_response_time_unknown    73.633584"
      ]
     },
     "execution_count": 6,
     "metadata": {},
     "output_type": "execute_result"
    }
   ],
   "source": [
    "kbest_scores_df = pd.DataFrame(kbest_features.scores_)\n",
    "kbest_columns = pd.DataFrame(X_train.columns)\n",
    "kbest_features_scores = pd.concat([kbest_columns, kbest_scores_df], axis=1)\n",
    "kbest_features_scores.columns = ['Features', 'Score']\n",
    "kbest_features_scores.nlargest(10,'Score')"
   ]
  },
  {
   "cell_type": "code",
   "execution_count": 7,
   "metadata": {},
   "outputs": [],
   "source": [
    "df_learn = df_dum[['accommodates', 'bedrooms', 'beds', 'property_type_Secondary unit', 'room_type_Private room',\n",
    "                    'room_type_Entire home/apt', 'property_type_House', 'property_type_Apartment', 'property_type_Boutique hotel',\n",
    "                    'host_response_time_unknown', 'price']]"
   ]
  },
  {
   "cell_type": "code",
   "execution_count": 9,
   "metadata": {},
   "outputs": [],
   "source": [
    "X_learn = df_learn.drop('price', axis=1)\n",
    "y_learn = df_learn.price\n",
    "X_learn = pd.DataFrame(scaler.fit_transform(X_learn), columns=list(X_learn.columns))"
   ]
  },
  {
   "cell_type": "code",
   "execution_count": 17,
   "metadata": {},
   "outputs": [
    {
     "name": "stdout",
     "output_type": "stream",
     "text": [
      "r-squared score for test set was 0.2882.\n",
      "MSE score for test set was 22549.5265.\n"
     ]
    }
   ],
   "source": [
    "X_learn_train, X_learn_test, y_learn_train, y_learn_test = train_test_split(X_learn, y_learn, test_size=.15, random_state=42)\n",
    "\n",
    "# Model 1: Linear Regression\n",
    "regr_model = LinearRegression()\n",
    "regr_model.fit(X_learn_train, y_learn_train)\n",
    "\n",
    "# Predict and score the model\n",
    "y_learn_test_preds = regr_model.predict(X_learn_test)\n",
    "\n",
    "#Scoring model\n",
    "test_r2 = round(r2_score(y_learn_test, y_learn_test_preds),4)\n",
    "test_mse = round(mean_squared_error(y_learn_test, y_learn_test_preds),4)\n",
    "\n",
    "print('r-squared score for test set was {}.'.format(test_r2))\n",
    "print('MSE score for test set was {}.'.format(test_mse))"
   ]
  },
  {
   "cell_type": "code",
   "execution_count": null,
   "metadata": {},
   "outputs": [],
   "source": []
  }
 ],
 "metadata": {
  "interpreter": {
   "hash": "18f1376541669d57b07862a8cbb91a0df6a45657227e58aa27699210757d51c7"
  },
  "kernelspec": {
   "display_name": "Python 3.7.6 ('env': venv)",
   "language": "python",
   "name": "python3"
  },
  "language_info": {
   "codemirror_mode": {
    "name": "ipython",
    "version": 3
   },
   "file_extension": ".py",
   "mimetype": "text/x-python",
   "name": "python",
   "nbconvert_exporter": "python",
   "pygments_lexer": "ipython3",
   "version": "3.7.6"
  },
  "orig_nbformat": 4
 },
 "nbformat": 4,
 "nbformat_minor": 2
}
